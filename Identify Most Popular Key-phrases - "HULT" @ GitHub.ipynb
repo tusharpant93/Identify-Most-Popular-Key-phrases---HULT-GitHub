{
 "cells": [
  {
   "cell_type": "code",
   "execution_count": 19,
   "metadata": {},
   "outputs": [],
   "source": [
    "# Github trends analysis starter\n",
    "import requests\n",
    "import html\n",
    "import string\n",
    "import re\n",
    "import nltk\n",
    "from nltk import word_tokenize\n",
    "from nltk.corpus import stopwords\n",
    "from nltk.collocations import *\n",
    "import pandas as pd\n",
    "import matplotlib.pyplot as plt"
   ]
  },
  {
   "cell_type": "code",
   "execution_count": 20,
   "metadata": {},
   "outputs": [],
   "source": [
    "# Github search API\n",
    "# https://docs.github.com/en/rest/reference/search#search-repositories\n",
    "github_url = 'https://api.github.com/search/repositories'\n"
   ]
  },
  {
   "cell_type": "code",
   "execution_count": 38,
   "metadata": {},
   "outputs": [],
   "source": [
    "# construct search query\n",
    "q = '\"Hult\" created:2020-09-01..2021-06-01'\n",
    "\n",
    "# MODIFY the query: add keywords of your interest, for example\n",
    "#q = '\"business analytics\" created:2020-09-..2021-06-01'"
   ]
  },
  {
   "cell_type": "code",
   "execution_count": 39,
   "metadata": {},
   "outputs": [],
   "source": [
    "# request parameters\n",
    "qparams = {'q' : q, 'sort' : 'stars', 'order': 'desc', 'per_page' : 100}"
   ]
  },
  {
   "cell_type": "code",
   "execution_count": 40,
   "metadata": {},
   "outputs": [
    {
     "data": {
      "text/plain": [
       "<Response [200]>"
      ]
     },
     "execution_count": 40,
     "metadata": {},
     "output_type": "execute_result"
    }
   ],
   "source": [
    "# review class session on working with APIs\n",
    "r = requests.get(url=github_url, params=qparams)\n",
    "r"
   ]
  },
  {
   "cell_type": "code",
   "execution_count": 41,
   "metadata": {},
   "outputs": [
    {
     "data": {
      "text/plain": [
       "dict_keys(['total_count', 'incomplete_results', 'items'])"
      ]
     },
     "execution_count": 41,
     "metadata": {},
     "output_type": "execute_result"
    }
   ],
   "source": [
    "res = r.json()\n",
    "res.keys()"
   ]
  },
  {
   "cell_type": "code",
   "execution_count": 42,
   "metadata": {},
   "outputs": [
    {
     "data": {
      "text/plain": [
       "75"
      ]
     },
     "execution_count": 42,
     "metadata": {},
     "output_type": "execute_result"
    }
   ],
   "source": [
    "# items returned in the response (first page)\n",
    "len(res['items'])"
   ]
  },
  {
   "cell_type": "code",
   "execution_count": 43,
   "metadata": {},
   "outputs": [
    {
     "data": {
      "text/plain": [
       "{'id': 296151695,\n",
       " 'node_id': 'MDEwOlJlcG9zaXRvcnkyOTYxNTE2OTU=',\n",
       " 'name': 'hultprizeindia-backend',\n",
       " 'full_name': 'HultPrizeIndia/hultprizeindia-backend',\n",
       " 'private': False,\n",
       " 'owner': {'login': 'HultPrizeIndia',\n",
       "  'id': 69625320,\n",
       "  'node_id': 'MDEyOk9yZ2FuaXphdGlvbjY5NjI1MzIw',\n",
       "  'avatar_url': 'https://avatars.githubusercontent.com/u/69625320?v=4',\n",
       "  'gravatar_id': '',\n",
       "  'url': 'https://api.github.com/users/HultPrizeIndia',\n",
       "  'html_url': 'https://github.com/HultPrizeIndia',\n",
       "  'followers_url': 'https://api.github.com/users/HultPrizeIndia/followers',\n",
       "  'following_url': 'https://api.github.com/users/HultPrizeIndia/following{/other_user}',\n",
       "  'gists_url': 'https://api.github.com/users/HultPrizeIndia/gists{/gist_id}',\n",
       "  'starred_url': 'https://api.github.com/users/HultPrizeIndia/starred{/owner}{/repo}',\n",
       "  'subscriptions_url': 'https://api.github.com/users/HultPrizeIndia/subscriptions',\n",
       "  'organizations_url': 'https://api.github.com/users/HultPrizeIndia/orgs',\n",
       "  'repos_url': 'https://api.github.com/users/HultPrizeIndia/repos',\n",
       "  'events_url': 'https://api.github.com/users/HultPrizeIndia/events{/privacy}',\n",
       "  'received_events_url': 'https://api.github.com/users/HultPrizeIndia/received_events',\n",
       "  'type': 'Organization',\n",
       "  'site_admin': False},\n",
       " 'html_url': 'https://github.com/HultPrizeIndia/hultprizeindia-backend',\n",
       " 'description': 'A RESTful API with JWT, Integration Testing, and GitHub actions. Built using node.js, express, and mongo.',\n",
       " 'fork': False,\n",
       " 'url': 'https://api.github.com/repos/HultPrizeIndia/hultprizeindia-backend',\n",
       " 'forks_url': 'https://api.github.com/repos/HultPrizeIndia/hultprizeindia-backend/forks',\n",
       " 'keys_url': 'https://api.github.com/repos/HultPrizeIndia/hultprizeindia-backend/keys{/key_id}',\n",
       " 'collaborators_url': 'https://api.github.com/repos/HultPrizeIndia/hultprizeindia-backend/collaborators{/collaborator}',\n",
       " 'teams_url': 'https://api.github.com/repos/HultPrizeIndia/hultprizeindia-backend/teams',\n",
       " 'hooks_url': 'https://api.github.com/repos/HultPrizeIndia/hultprizeindia-backend/hooks',\n",
       " 'issue_events_url': 'https://api.github.com/repos/HultPrizeIndia/hultprizeindia-backend/issues/events{/number}',\n",
       " 'events_url': 'https://api.github.com/repos/HultPrizeIndia/hultprizeindia-backend/events',\n",
       " 'assignees_url': 'https://api.github.com/repos/HultPrizeIndia/hultprizeindia-backend/assignees{/user}',\n",
       " 'branches_url': 'https://api.github.com/repos/HultPrizeIndia/hultprizeindia-backend/branches{/branch}',\n",
       " 'tags_url': 'https://api.github.com/repos/HultPrizeIndia/hultprizeindia-backend/tags',\n",
       " 'blobs_url': 'https://api.github.com/repos/HultPrizeIndia/hultprizeindia-backend/git/blobs{/sha}',\n",
       " 'git_tags_url': 'https://api.github.com/repos/HultPrizeIndia/hultprizeindia-backend/git/tags{/sha}',\n",
       " 'git_refs_url': 'https://api.github.com/repos/HultPrizeIndia/hultprizeindia-backend/git/refs{/sha}',\n",
       " 'trees_url': 'https://api.github.com/repos/HultPrizeIndia/hultprizeindia-backend/git/trees{/sha}',\n",
       " 'statuses_url': 'https://api.github.com/repos/HultPrizeIndia/hultprizeindia-backend/statuses/{sha}',\n",
       " 'languages_url': 'https://api.github.com/repos/HultPrizeIndia/hultprizeindia-backend/languages',\n",
       " 'stargazers_url': 'https://api.github.com/repos/HultPrizeIndia/hultprizeindia-backend/stargazers',\n",
       " 'contributors_url': 'https://api.github.com/repos/HultPrizeIndia/hultprizeindia-backend/contributors',\n",
       " 'subscribers_url': 'https://api.github.com/repos/HultPrizeIndia/hultprizeindia-backend/subscribers',\n",
       " 'subscription_url': 'https://api.github.com/repos/HultPrizeIndia/hultprizeindia-backend/subscription',\n",
       " 'commits_url': 'https://api.github.com/repos/HultPrizeIndia/hultprizeindia-backend/commits{/sha}',\n",
       " 'git_commits_url': 'https://api.github.com/repos/HultPrizeIndia/hultprizeindia-backend/git/commits{/sha}',\n",
       " 'comments_url': 'https://api.github.com/repos/HultPrizeIndia/hultprizeindia-backend/comments{/number}',\n",
       " 'issue_comment_url': 'https://api.github.com/repos/HultPrizeIndia/hultprizeindia-backend/issues/comments{/number}',\n",
       " 'contents_url': 'https://api.github.com/repos/HultPrizeIndia/hultprizeindia-backend/contents/{+path}',\n",
       " 'compare_url': 'https://api.github.com/repos/HultPrizeIndia/hultprizeindia-backend/compare/{base}...{head}',\n",
       " 'merges_url': 'https://api.github.com/repos/HultPrizeIndia/hultprizeindia-backend/merges',\n",
       " 'archive_url': 'https://api.github.com/repos/HultPrizeIndia/hultprizeindia-backend/{archive_format}{/ref}',\n",
       " 'downloads_url': 'https://api.github.com/repos/HultPrizeIndia/hultprizeindia-backend/downloads',\n",
       " 'issues_url': 'https://api.github.com/repos/HultPrizeIndia/hultprizeindia-backend/issues{/number}',\n",
       " 'pulls_url': 'https://api.github.com/repos/HultPrizeIndia/hultprizeindia-backend/pulls{/number}',\n",
       " 'milestones_url': 'https://api.github.com/repos/HultPrizeIndia/hultprizeindia-backend/milestones{/number}',\n",
       " 'notifications_url': 'https://api.github.com/repos/HultPrizeIndia/hultprizeindia-backend/notifications{?since,all,participating}',\n",
       " 'labels_url': 'https://api.github.com/repos/HultPrizeIndia/hultprizeindia-backend/labels{/name}',\n",
       " 'releases_url': 'https://api.github.com/repos/HultPrizeIndia/hultprizeindia-backend/releases{/id}',\n",
       " 'deployments_url': 'https://api.github.com/repos/HultPrizeIndia/hultprizeindia-backend/deployments',\n",
       " 'created_at': '2020-09-16T21:27:19Z',\n",
       " 'updated_at': '2020-10-27T21:46:16Z',\n",
       " 'pushed_at': '2020-10-12T14:43:23Z',\n",
       " 'git_url': 'git://github.com/HultPrizeIndia/hultprizeindia-backend.git',\n",
       " 'ssh_url': 'git@github.com:HultPrizeIndia/hultprizeindia-backend.git',\n",
       " 'clone_url': 'https://github.com/HultPrizeIndia/hultprizeindia-backend.git',\n",
       " 'svn_url': 'https://github.com/HultPrizeIndia/hultprizeindia-backend',\n",
       " 'homepage': '',\n",
       " 'size': 366,\n",
       " 'stargazers_count': 1,\n",
       " 'watchers_count': 1,\n",
       " 'language': 'JavaScript',\n",
       " 'has_issues': True,\n",
       " 'has_projects': True,\n",
       " 'has_downloads': True,\n",
       " 'has_wiki': True,\n",
       " 'has_pages': False,\n",
       " 'forks_count': 0,\n",
       " 'mirror_url': None,\n",
       " 'archived': False,\n",
       " 'disabled': False,\n",
       " 'open_issues_count': 0,\n",
       " 'license': None,\n",
       " 'forks': 0,\n",
       " 'open_issues': 0,\n",
       " 'watchers': 1,\n",
       " 'default_branch': 'master',\n",
       " 'score': 1.0}"
      ]
     },
     "execution_count": 43,
     "metadata": {},
     "output_type": "execute_result"
    }
   ],
   "source": [
    "# inspects results item structure\n",
    "res['items'][2]"
   ]
  },
  {
   "cell_type": "code",
   "execution_count": 44,
   "metadata": {},
   "outputs": [
    {
     "data": {
      "text/plain": [
       "'A RESTful API with JWT, Integration Testing, and GitHub actions. Built using node.js, express, and mongo.'"
      ]
     },
     "execution_count": 44,
     "metadata": {},
     "output_type": "execute_result"
    }
   ],
   "source": [
    "res['items'][2]['description']"
   ]
  },
  {
   "cell_type": "code",
   "execution_count": 45,
   "metadata": {},
   "outputs": [
    {
     "data": {
      "text/plain": [
       "75"
      ]
     },
     "execution_count": 45,
     "metadata": {},
     "output_type": "execute_result"
    }
   ],
   "source": [
    "# total number of top repositories collected\n",
    "len(res['items'])"
   ]
  },
  {
   "cell_type": "code",
   "execution_count": 46,
   "metadata": {},
   "outputs": [],
   "source": [
    "stop_words = set(stopwords.words('english'))\n",
    "\n",
    "# text cleaning function\n",
    "def text_cleanup(s):\n",
    "    # if not a string object, disregard\n",
    "    if not isinstance(s, str):\n",
    "        return ''\n",
    "    \n",
    "    s_unesc = html.unescape(re.sub(r\"http\\S+\", \"\", re.sub('\\n+', ' ', s)))\n",
    "    s_noemoji = s_unesc.encode('ascii', 'ignore').decode('ascii')\n",
    "    # normalize to lowercase and tokenize\n",
    "    wt = word_tokenize(s_noemoji.lower())\n",
    "    \n",
    "    # filter word-tokens\n",
    "    wt_filt = [w for w in wt if (w not in stop_words) and (w not in string.punctuation) and w.isalnum()]\n",
    "    \n",
    "    # return clean string\n",
    "    return ' '.join(wt_filt)"
   ]
  },
  {
   "cell_type": "code",
   "execution_count": 47,
   "metadata": {},
   "outputs": [
    {
     "data": {
      "text/plain": [
       "'restful api jwt integration testing github actions built using express mongo'"
      ]
     },
     "execution_count": 47,
     "metadata": {},
     "output_type": "execute_result"
    }
   ],
   "source": [
    "# clean text of repository descriotions\n",
    "text_cleanup(res['items'][2]['description'])"
   ]
  },
  {
   "cell_type": "code",
   "execution_count": 48,
   "metadata": {},
   "outputs": [],
   "source": [
    "# list of cleaned-up top repository description strings\n",
    "descr = [text_cleanup(r['description']) for r in res['items']]"
   ]
  },
  {
   "cell_type": "code",
   "execution_count": 49,
   "metadata": {},
   "outputs": [],
   "source": [
    "# NLTK collocations search (words occuring together): bigrams\n",
    "# https://www.nltk.org/howto/collocations.html\n",
    "# http://www.nltk.org/api/nltk.html#nltk.util.bigrams\n",
    "bigram_measures = nltk.collocations.BigramAssocMeasures()\n",
    "bigram_finder = BigramCollocationFinder.from_documents([d.split() for d in descr])"
   ]
  },
  {
   "cell_type": "code",
   "execution_count": 50,
   "metadata": {},
   "outputs": [],
   "source": [
    "# filter out bigrams occurring less than three times in the combined text\n",
    "bigram_finder.apply_freq_filter(3)"
   ]
  },
  {
   "cell_type": "code",
   "execution_count": 51,
   "metadata": {},
   "outputs": [
    {
     "data": {
      "text/plain": [
       "[(('text', 'analytics'), 3),\n",
       " (('course', 'hult'), 7),\n",
       " (('hult', 'international'), 21),\n",
       " (('international', 'business'), 22),\n",
       " (('business', 'school'), 23),\n",
       " (('business', 'analytics'), 10),\n",
       " (('analytics', 'hult'), 9),\n",
       " (('final', 'project'), 3),\n",
       " (('project', 'individual'), 5),\n",
       " (('curricular', 'course'), 8),\n",
       " (('course', 'attended'), 8),\n",
       " (('attended', 'throughout'), 7),\n",
       " (('throughout', 'fall'), 6),\n",
       " (('fall', 'semester'), 6),\n",
       " (('semester', 'second'), 7),\n",
       " (('second', 'master'), 7),\n",
       " (('master', 'degree'), 8),\n",
       " (('degree', 'business'), 7),\n",
       " (('hult', 'prize'), 6),\n",
       " (('config', 'files'), 4),\n",
       " (('files', 'github'), 4),\n",
       " (('github', 'profile'), 4),\n",
       " (('project', 'hult'), 3),\n",
       " (('academic', 'project'), 4),\n",
       " (('data', 'science'), 5),\n",
       " (('machine', 'learning'), 3),\n",
       " (('project', 'data'), 4),\n",
       " (('science', 'python'), 3),\n",
       " (('final', 'academic'), 5),\n",
       " (('academic', 'team'), 3),\n",
       " (('team', 'project'), 4),\n",
       " (('personality', 'traits'), 3)]"
      ]
     },
     "execution_count": 51,
     "metadata": {},
     "output_type": "execute_result"
    }
   ],
   "source": [
    "# list of bigrams with their frequencies\n",
    "bigram_freq = list(bigram_finder.ngram_fd.items())\n",
    "bigram_freq"
   ]
  },
  {
   "cell_type": "code",
   "execution_count": 52,
   "metadata": {},
   "outputs": [
    {
     "data": {
      "text/html": [
       "<div>\n",
       "<style scoped>\n",
       "    .dataframe tbody tr th:only-of-type {\n",
       "        vertical-align: middle;\n",
       "    }\n",
       "\n",
       "    .dataframe tbody tr th {\n",
       "        vertical-align: top;\n",
       "    }\n",
       "\n",
       "    .dataframe thead th {\n",
       "        text-align: right;\n",
       "    }\n",
       "</style>\n",
       "<table border=\"1\" class=\"dataframe\">\n",
       "  <thead>\n",
       "    <tr style=\"text-align: right;\">\n",
       "      <th></th>\n",
       "      <th>count</th>\n",
       "    </tr>\n",
       "    <tr>\n",
       "      <th>keyphrase</th>\n",
       "      <th></th>\n",
       "    </tr>\n",
       "  </thead>\n",
       "  <tbody>\n",
       "    <tr>\n",
       "      <th>business school</th>\n",
       "      <td>23</td>\n",
       "    </tr>\n",
       "    <tr>\n",
       "      <th>international business</th>\n",
       "      <td>22</td>\n",
       "    </tr>\n",
       "    <tr>\n",
       "      <th>hult international</th>\n",
       "      <td>21</td>\n",
       "    </tr>\n",
       "    <tr>\n",
       "      <th>business analytics</th>\n",
       "      <td>10</td>\n",
       "    </tr>\n",
       "    <tr>\n",
       "      <th>analytics hult</th>\n",
       "      <td>9</td>\n",
       "    </tr>\n",
       "    <tr>\n",
       "      <th>master degree</th>\n",
       "      <td>8</td>\n",
       "    </tr>\n",
       "    <tr>\n",
       "      <th>curricular course</th>\n",
       "      <td>8</td>\n",
       "    </tr>\n",
       "    <tr>\n",
       "      <th>course attended</th>\n",
       "      <td>8</td>\n",
       "    </tr>\n",
       "    <tr>\n",
       "      <th>semester second</th>\n",
       "      <td>7</td>\n",
       "    </tr>\n",
       "    <tr>\n",
       "      <th>degree business</th>\n",
       "      <td>7</td>\n",
       "    </tr>\n",
       "    <tr>\n",
       "      <th>attended throughout</th>\n",
       "      <td>7</td>\n",
       "    </tr>\n",
       "    <tr>\n",
       "      <th>course hult</th>\n",
       "      <td>7</td>\n",
       "    </tr>\n",
       "    <tr>\n",
       "      <th>second master</th>\n",
       "      <td>7</td>\n",
       "    </tr>\n",
       "    <tr>\n",
       "      <th>hult prize</th>\n",
       "      <td>6</td>\n",
       "    </tr>\n",
       "    <tr>\n",
       "      <th>fall semester</th>\n",
       "      <td>6</td>\n",
       "    </tr>\n",
       "    <tr>\n",
       "      <th>throughout fall</th>\n",
       "      <td>6</td>\n",
       "    </tr>\n",
       "    <tr>\n",
       "      <th>project individual</th>\n",
       "      <td>5</td>\n",
       "    </tr>\n",
       "    <tr>\n",
       "      <th>data science</th>\n",
       "      <td>5</td>\n",
       "    </tr>\n",
       "    <tr>\n",
       "      <th>final academic</th>\n",
       "      <td>5</td>\n",
       "    </tr>\n",
       "    <tr>\n",
       "      <th>team project</th>\n",
       "      <td>4</td>\n",
       "    </tr>\n",
       "    <tr>\n",
       "      <th>config files</th>\n",
       "      <td>4</td>\n",
       "    </tr>\n",
       "    <tr>\n",
       "      <th>files github</th>\n",
       "      <td>4</td>\n",
       "    </tr>\n",
       "    <tr>\n",
       "      <th>github profile</th>\n",
       "      <td>4</td>\n",
       "    </tr>\n",
       "    <tr>\n",
       "      <th>academic project</th>\n",
       "      <td>4</td>\n",
       "    </tr>\n",
       "    <tr>\n",
       "      <th>project data</th>\n",
       "      <td>4</td>\n",
       "    </tr>\n",
       "    <tr>\n",
       "      <th>science python</th>\n",
       "      <td>3</td>\n",
       "    </tr>\n",
       "    <tr>\n",
       "      <th>academic team</th>\n",
       "      <td>3</td>\n",
       "    </tr>\n",
       "    <tr>\n",
       "      <th>text analytics</th>\n",
       "      <td>3</td>\n",
       "    </tr>\n",
       "    <tr>\n",
       "      <th>machine learning</th>\n",
       "      <td>3</td>\n",
       "    </tr>\n",
       "    <tr>\n",
       "      <th>project hult</th>\n",
       "      <td>3</td>\n",
       "    </tr>\n",
       "    <tr>\n",
       "      <th>final project</th>\n",
       "      <td>3</td>\n",
       "    </tr>\n",
       "    <tr>\n",
       "      <th>personality traits</th>\n",
       "      <td>3</td>\n",
       "    </tr>\n",
       "  </tbody>\n",
       "</table>\n",
       "</div>"
      ],
      "text/plain": [
       "                        count\n",
       "keyphrase                    \n",
       "business school            23\n",
       "international business     22\n",
       "hult international         21\n",
       "business analytics         10\n",
       "analytics hult              9\n",
       "master degree               8\n",
       "curricular course           8\n",
       "course attended             8\n",
       "semester second             7\n",
       "degree business             7\n",
       "attended throughout         7\n",
       "course hult                 7\n",
       "second master               7\n",
       "hult prize                  6\n",
       "fall semester               6\n",
       "throughout fall             6\n",
       "project individual          5\n",
       "data science                5\n",
       "final academic              5\n",
       "team project                4\n",
       "config files                4\n",
       "files github                4\n",
       "github profile              4\n",
       "academic project            4\n",
       "project data                4\n",
       "science python              3\n",
       "academic team               3\n",
       "text analytics              3\n",
       "machine learning            3\n",
       "project hult                3\n",
       "final project               3\n",
       "personality traits          3"
      ]
     },
     "execution_count": 52,
     "metadata": {},
     "output_type": "execute_result"
    }
   ],
   "source": [
    "# collect into a pandas dataframe\n",
    "df_freq = pd.DataFrame([(' '.join(k), v) for k,v in bigram_freq], columns=['keyphrase', 'count'])\n",
    "df_freq.sort_values(by='count', ascending=False, inplace=True)\n",
    "df_freq.set_index('keyphrase', inplace = True)\n",
    "df_freq"
   ]
  },
  {
   "cell_type": "code",
   "execution_count": 53,
   "metadata": {},
   "outputs": [
    {
     "data": {
      "image/png": "[encoded data removed]",
      "text/plain": [
       "<Figure size 432x288 with 1 Axes>"
      ]
     },
     "metadata": {},
     "output_type": "display_data"
    }
   ],
   "source": [
    "plt.style.use('ggplot')\n",
    "\n",
    "# render a horizontal bar graph\n",
    "df_freq.head(20).sort_values(by='count').plot(kind = 'barh')\n",
    "plt.title('Trending keyphrases')\n",
    "plt.ylabel('phrase')\n",
    "plt.xlabel('count')\n",
    "plt.legend().set_visible(False)\n",
    "plt.show()"
   ]
  },
  {
   "cell_type": "code",
   "execution_count": null,
   "metadata": {},
   "outputs": [],
   "source": []
  }
 ],
 "metadata": {
  "kernelspec": {
   "display_name": "Python 3",
   "language": "python",
   "name": "python3"
  },
  "language_info": {
   "codemirror_mode": {
    "name": "ipython",
    "version": 3
   },
   "file_extension": ".py",
   "mimetype": "text/x-python",
   "name": "python",
   "nbconvert_exporter": "python",
   "pygments_lexer": "ipython3",
   "version": "3.8.5"
  }
 },
 "nbformat": 4,
 "nbformat_minor": 4
}
